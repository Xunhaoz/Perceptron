{
 "cells": [
  {
   "metadata": {
    "ExecuteTime": {
     "end_time": "2024-06-03T01:35:05.178533400Z",
     "start_time": "2024-06-03T01:35:05.110514500Z"
    }
   },
   "cell_type": "code",
   "source": [
    "from ml.ModelComponents import *\n",
    "from utils.metrics import accuracy, cross_entropy\n",
    "from utils.loss import cross_entropy_loss"
   ],
   "id": "42fbbfa06322ad26",
   "outputs": [],
   "execution_count": 10
  },
  {
   "metadata": {
    "ExecuteTime": {
     "end_time": "2024-06-03T01:35:05.231528100Z",
     "start_time": "2024-06-03T01:35:05.122517Z"
    }
   },
   "cell_type": "code",
   "source": [
    "import cv2\n",
    "import numpy as np\n",
    "import pandas as pd\n",
    "from pathlib import Path\n",
    "from tqdm import trange"
   ],
   "id": "ccd9302589ec9722",
   "outputs": [],
   "execution_count": 11
  },
  {
   "metadata": {
    "ExecuteTime": {
     "end_time": "2024-06-03T01:35:05.232527400Z",
     "start_time": "2024-06-03T01:35:05.143542600Z"
    }
   },
   "cell_type": "code",
   "source": [
    "np.random.seed(72)"
   ],
   "id": "f34abc72fb02eb78",
   "outputs": [],
   "execution_count": 12
  },
  {
   "metadata": {
    "ExecuteTime": {
     "end_time": "2024-06-03T01:35:05.243528400Z",
     "start_time": "2024-06-03T01:35:05.164534800Z"
    }
   },
   "cell_type": "code",
   "source": [
    "def read_image(path=\"ORL3232\", category=40):\n",
    "    def one_hot(x):\n",
    "        z = np.zeros(category)\n",
    "        z[x - 1] = 1\n",
    "        return z\n",
    "\n",
    "    bmps = Path(path).rglob(\"*.bmp\")\n",
    "    data = {\"labels\": [], \"ids\": [], \"images\": []}\n",
    "\n",
    "    for bmp in bmps:\n",
    "        if not bmp.parent.stem.isdigit():\n",
    "            continue\n",
    "        data[\"labels\"].append(int(bmp.parent.stem))\n",
    "        data[\"ids\"].append(int(bmp.stem))\n",
    "        data[\"images\"].append(cv2.imread(str(bmp))[:, :, 0].squeeze().flatten())\n",
    "\n",
    "    dataframe = pd.DataFrame(data).sample(frac=1)\n",
    "    dataframe['labels_onehot'] = dataframe['labels'].apply(lambda x: one_hot(x))\n",
    "\n",
    "    train = dataframe[dataframe['ids'] % 2 == 1]\n",
    "    test = dataframe[dataframe['ids'] % 2 == 0]\n",
    "\n",
    "    images = np.stack(train['images'].tolist() + test['images'].tolist())\n",
    "    labels = np.stack(train['labels'].tolist() + test['labels'].tolist())\n",
    "    labels_onehot = np.stack(train['labels_onehot'].tolist() + test['labels_onehot'].tolist())\n",
    "\n",
    "    return images, labels, labels_onehot"
   ],
   "id": "96c20ba90b65a9c9",
   "outputs": [],
   "execution_count": 13
  },
  {
   "metadata": {
    "ExecuteTime": {
     "end_time": "2024-06-03T01:35:05.264182500Z",
     "start_time": "2024-06-03T01:35:05.194536100Z"
    }
   },
   "cell_type": "code",
   "source": [
    "def pca(data, n_components):\n",
    "    mean = np.mean(data, axis=0)\n",
    "    std = np.std(data, axis=0)\n",
    "    data_normalized = (data - mean) / std\n",
    "    cov_matrix = np.cov(data_normalized, rowvar=False)\n",
    "    eigenvalues, eigenvectors = np.linalg.eigh(cov_matrix)\n",
    "    sorted_index = np.argsort(eigenvalues)[::-1]\n",
    "    sorted_eigenvectors = eigenvectors[:, sorted_index]\n",
    "    feature_vectors = sorted_eigenvectors[:, :n_components]\n",
    "    pca_data = np.dot(data_normalized, feature_vectors)\n",
    "    return pca_data\n",
    "\n",
    "\n",
    "def lda(X, y, num_components=2):\n",
    "    class_labels = np.unique(y)\n",
    "    mean_overall = np.mean(X, axis=0)\n",
    "    S_W = np.zeros((X.shape[1], X.shape[1]))\n",
    "    S_B = np.zeros((X.shape[1], X.shape[1]))\n",
    "    for c in class_labels:\n",
    "        X_c = X[y == c]\n",
    "        mean_c = np.mean(X_c, axis=0)\n",
    "        S_W += np.dot((X_c - mean_c).T, (X_c - mean_c))\n",
    "        n_c = X_c.shape[0]\n",
    "        mean_diff = (mean_c - mean_overall).reshape(-1, 1)\n",
    "        S_B += n_c * np.dot(mean_diff, mean_diff.T)\n",
    "    A = np.dot(np.linalg.inv(S_W), S_B)\n",
    "    eigenvalues, eigenvectors = np.linalg.eig(A)\n",
    "    eigenvectors = eigenvectors[:, np.argsort(eigenvalues)[::-1]]\n",
    "    W = eigenvectors[:, :num_components]\n",
    "    return np.real(W)\n",
    "\n",
    "def euclidean_similarity(A, B):\n",
    "    A = A[:, np.newaxis, :]\n",
    "    B = B[np.newaxis, :, :]\n",
    "    distances = np.sqrt(np.sum((A - B) ** 2, axis=2))\n",
    "    similarity = 1 / (1 + distances)\n",
    "    return similarity"
   ],
   "id": "60f9affebc4ad065",
   "outputs": [],
   "execution_count": 14
  },
  {
   "metadata": {
    "ExecuteTime": {
     "end_time": "2024-06-03T01:35:05.265190200Z",
     "start_time": "2024-06-03T01:35:05.216326Z"
    }
   },
   "cell_type": "code",
   "source": [
    "def normalize(data):\n",
    "    data = data / 255\n",
    "    return data\n",
    "\n",
    "\n",
    "def min_max_normalize(data):\n",
    "    data = (data - np.min(data)) / (np.max(data) - np.min(data))\n",
    "    return data"
   ],
   "id": "622b677e00a2987f",
   "outputs": [],
   "execution_count": 15
  },
  {
   "metadata": {
    "ExecuteTime": {
     "end_time": "2024-06-03T01:35:05.267215200Z",
     "start_time": "2024-06-03T01:35:05.230509700Z"
    }
   },
   "cell_type": "code",
   "source": [
    "EPOCH = 6000\n",
    "LEARNING_RATE = 0.1\n",
    "n_components = 64\n",
    "softmax = Softmax()"
   ],
   "id": "24b3dcd667717ae8",
   "outputs": [],
   "execution_count": 16
  },
  {
   "metadata": {
    "ExecuteTime": {
     "end_time": "2024-06-03T01:35:06.418784600Z",
     "start_time": "2024-06-03T01:35:05.249331900Z"
    }
   },
   "cell_type": "code",
   "source": [
    "images, labels, labels_onehot = read_image()\n",
    "images = normalize(images)\n",
    "images = pca(images, n_components)\n",
    "images = min_max_normalize(images)\n",
    "convert_matrix = lda(images, labels, 14)\n",
    "images = np.dot(images, convert_matrix)\n",
    "train_images, test_images = images[:200, :], images[200:, :]\n",
    "train_labels_onehot, test_labels_onehot = labels_onehot[:200, :], labels_onehot[200:, :]\n",
    "train_labels, test_labels = labels[:200], labels[200:]"
   ],
   "id": "55e69216341954a8",
   "outputs": [],
   "execution_count": 17
  },
  {
   "metadata": {
    "ExecuteTime": {
     "end_time": "2024-06-03T01:35:06.506459Z",
     "start_time": "2024-06-03T01:35:06.421790800Z"
    }
   },
   "cell_type": "code",
   "source": [
    "np.average(train_labels[euclidean_similarity(test_images, train_images).argmax(axis=1)] == test_labels)"
   ],
   "id": "7c8cd2cc8e9bcfd2",
   "outputs": [
    {
     "data": {
      "text/plain": "0.99"
     },
     "execution_count": 18,
     "metadata": {},
     "output_type": "execute_result"
    }
   ],
   "execution_count": 18
  },
  {
   "metadata": {
    "ExecuteTime": {
     "end_time": "2024-06-03T01:35:06.527380300Z",
     "start_time": "2024-06-03T01:35:06.453273500Z"
    }
   },
   "cell_type": "code",
   "source": [],
   "id": "38f457f3fd11dc87",
   "outputs": [],
   "execution_count": 18
  }
 ],
 "metadata": {
  "kernelspec": {
   "display_name": "Python 3",
   "language": "python",
   "name": "python3"
  },
  "language_info": {
   "codemirror_mode": {
    "name": "ipython",
    "version": 2
   },
   "file_extension": ".py",
   "mimetype": "text/x-python",
   "name": "python",
   "nbconvert_exporter": "python",
   "pygments_lexer": "ipython2",
   "version": "2.7.6"
  }
 },
 "nbformat": 4,
 "nbformat_minor": 5
}
